{
 "cells": [
  {
   "cell_type": "code",
   "execution_count": 12,
   "metadata": {},
   "outputs": [],
   "source": [
    "import cv2\n",
    "import numpy as np\n",
    "\n",
    "def video_generator(text: str):\n",
    "    # Задаем параметры нашего файла. Кодек позволяющий сделать файл в разрешении .mp4\n",
    "    video_file = cv2.VideoWriter_fourcc(*'mp4v')\n",
    "    duration = 3\n",
    "    height, width = 100, 100\n",
    "\n",
    "    # Создаем файл с заданными параметрами\n",
    "    output = cv2.VideoWriter('output.mp4', video_file, 24, (height, width))\n",
    "\n",
    "    # Создаем кадр с заданными характеристиками\n",
    "    frame = np.zeros((height, width, 3), dtype=np.uint8)\n",
    "\n",
    "    # Устанавливаем начальные координаты\n",
    "    x, y = width, height // 2\n",
    "\n",
    "    # Шрифт\n",
    "    font = cv2.FONT_HERSHEY_SIMPLEX\n",
    "    font_size = 1\n",
    "    font_thickness = 2\n",
    "    font_color = (0, 0, 0)\n",
    "\n",
    "    # Генерация видео: сначала очищаем кадр, затем двигаем текст (скорость зависит от длины строки), размещаем сдвинутый текст на кадр, выводим кадр в финальное видео\n",
    "    for t in range(duration * 24):\n",
    "        frame.fill(255)\n",
    "\n",
    "        x -= len(text) // duration\n",
    "\n",
    "        cv2.putText(frame, text, (x, y), font, font_size, font_color, font_thickness)\n",
    "\n",
    "        output.write(frame)\n",
    "\n",
    "    output.release()\n",
    "\n",
    "# Сначала вводим текст, получаем файл, в котором будет наша строка\n",
    "text = input(\"Введите текст, который будет в бегущей строке\")\n",
    "video_generator(text)"
   ]
  }
 ],
 "metadata": {
  "kernelspec": {
   "display_name": "Python 3",
   "language": "python",
   "name": "python3"
  },
  "language_info": {
   "codemirror_mode": {
    "name": "ipython",
    "version": 3
   },
   "file_extension": ".py",
   "mimetype": "text/x-python",
   "name": "python",
   "nbconvert_exporter": "python",
   "pygments_lexer": "ipython3",
   "version": "3.12.4"
  }
 },
 "nbformat": 4,
 "nbformat_minor": 2
}
